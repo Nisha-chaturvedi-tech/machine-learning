{
  "nbformat": 4,
  "nbformat_minor": 0,
  "metadata": {
    "colab": {
      "provenance": [],
      "authorship_tag": "ABX9TyM4lcPR5Cr7Ln4OiPAX9ojl",
      "include_colab_link": true
    },
    "kernelspec": {
      "name": "python3",
      "display_name": "Python 3"
    },
    "language_info": {
      "name": "python"
    },
    "accelerator": "TPU"
  },
  "cells": [
    {
      "cell_type": "markdown",
      "metadata": {
        "id": "view-in-github",
        "colab_type": "text"
      },
      "source": [
        "<a href=\"https://colab.research.google.com/github/Nisha-chaturvedi-tech/machine-learning/blob/main/NLP_for_TEXT_basics.ipynb\" target=\"_parent\"><img src=\"https://colab.research.google.com/assets/colab-badge.svg\" alt=\"Open In Colab\"/></a>"
      ]
    },
    {
      "cell_type": "code",
      "metadata": {
        "id": "FTocv9jKvQgi"
      },
      "source": [],
      "execution_count": null,
      "outputs": []
    },
    {
      "cell_type": "markdown",
      "metadata": {
        "id": "8ALM7yhKvrUm"
      },
      "source": [
        "##Tokenization"
      ]
    },
    {
      "cell_type": "code",
      "metadata": {
        "id": "vpYV-7gGv3UA"
      },
      "source": [
        "#import Spacy\n",
        "import spacy"
      ],
      "execution_count": null,
      "outputs": []
    },
    {
      "cell_type": "code",
      "metadata": {
        "id": "45Q_SJPZvw3g"
      },
      "source": [
        "#load language library\n",
        "nlp = spacy.load('en_core_web_sm')"
      ],
      "execution_count": null,
      "outputs": []
    },
    {
      "cell_type": "code",
      "metadata": {
        "id": "d02udbL6wYPw"
      },
      "source": [
        "##creating the string\n",
        "myString=\"Gandhi's vision of an independent India based on religious pluralism was challenged in the early 1940s.\" "
      ],
      "execution_count": null,
      "outputs": []
    },
    {
      "cell_type": "code",
      "metadata": {
        "colab": {
          "base_uri": "https://localhost:8080/",
          "height": 35
        },
        "id": "lkxDajiOwtrN",
        "outputId": "06275cf6-d1be-4139-de15-8c586d758b8e"
      },
      "source": [
        "myString"
      ],
      "execution_count": null,
      "outputs": [
        {
          "output_type": "execute_result",
          "data": {
            "application/vnd.google.colaboratory.intrinsic+json": {
              "type": "string"
            },
            "text/plain": [
              "\"Gandhi's vision of an independent India based on religious pluralism was challenged in the early 1940s.\""
            ]
          },
          "metadata": {
            "tags": []
          },
          "execution_count": 4
        }
      ]
    },
    {
      "cell_type": "code",
      "metadata": {
        "id": "cONiA2_2w902"
      },
      "source": [
        "##creating doc and explore string\n",
        "doc= nlp(myString)"
      ],
      "execution_count": null,
      "outputs": []
    },
    {
      "cell_type": "code",
      "metadata": {
        "colab": {
          "base_uri": "https://localhost:8080/"
        },
        "id": "AEhBSZQSs9bq",
        "outputId": "d3324008-19e8-45d6-d89a-1e38ef2bbfc1"
      },
      "source": [
        "doc"
      ],
      "execution_count": null,
      "outputs": [
        {
          "output_type": "execute_result",
          "data": {
            "text/plain": [
              "Gandhi's vision of an independent India based on religious pluralism was challenged in the early 1940s."
            ]
          },
          "metadata": {
            "tags": []
          },
          "execution_count": 7
        }
      ]
    },
    {
      "cell_type": "code",
      "metadata": {
        "colab": {
          "base_uri": "https://localhost:8080/"
        },
        "id": "nxUSqfEuxIFd",
        "outputId": "0bcdb49d-7652-4952-9600-5d1c5a44e908"
      },
      "source": [
        "for token in doc:\n",
        "  print(token.text, end='|')"
      ],
      "execution_count": null,
      "outputs": [
        {
          "output_type": "stream",
          "text": [
            "Gandhi|'s|vision|of|an|independent|India|based|on|religious|pluralism|was|challenged|in|the|early|1940s|.|"
          ],
          "name": "stdout"
        }
      ]
    },
    {
      "cell_type": "code",
      "metadata": {
        "colab": {
          "base_uri": "https://localhost:8080/"
        },
        "id": "wKOz_YUixRWp",
        "outputId": "a48a871b-b06c-4b83-d489-ebf70511850c"
      },
      "source": [
        "doc2= nlp(\"A 5km NYC ride costs $10.30\")\n",
        "for t in doc2:\n",
        "  print(t)"
      ],
      "execution_count": null,
      "outputs": [
        {
          "output_type": "stream",
          "text": [
            "A\n",
            "5\n",
            "km\n",
            "NYC\n",
            "ride\n",
            "costs\n",
            "$\n",
            "10.30\n"
          ],
          "name": "stdout"
        }
      ]
    },
    {
      "cell_type": "code",
      "metadata": {
        "colab": {
          "base_uri": "https://localhost:8080/"
        },
        "id": "JtEB46Wpx4wK",
        "outputId": "5820c3c2-9300-45cc-f53f-cc1d01469361"
      },
      "source": [
        "doc3= nlp(\"Let's visit St.Louis in the U.S. next Year \")\n",
        "for t in doc3:\n",
        "  print(t)"
      ],
      "execution_count": null,
      "outputs": [
        {
          "output_type": "stream",
          "text": [
            "Let\n",
            "'s\n",
            "visit\n",
            "St\n",
            ".\n",
            "Louis\n",
            "in\n",
            "the\n",
            "U.S.\n",
            "next\n",
            "Year\n"
          ],
          "name": "stdout"
        }
      ]
    },
    {
      "cell_type": "code",
      "metadata": {
        "colab": {
          "base_uri": "https://localhost:8080/"
        },
        "id": "6rQqYJceyU5D",
        "outputId": "595323a9-7f6c-41d0-e866-292868956220"
      },
      "source": [
        "doc4= nlp(\"Born and raised in a Hindu family in coastal Gujarat, Gandhi trained in law at the Inner Temple,\")\n",
        "for t in doc4:\n",
        "  print(t)"
      ],
      "execution_count": null,
      "outputs": [
        {
          "output_type": "stream",
          "text": [
            "Born\n",
            "and\n",
            "raised\n",
            "in\n",
            "a\n",
            "Hindu\n",
            "family\n",
            "in\n",
            "coastal\n",
            "Gujarat\n",
            ",\n",
            "Gandhi\n",
            "trained\n",
            "in\n",
            "law\n",
            "at\n",
            "the\n",
            "Inner\n",
            "Temple\n",
            ",\n"
          ],
          "name": "stdout"
        }
      ]
    },
    {
      "cell_type": "code",
      "metadata": {
        "colab": {
          "base_uri": "https://localhost:8080/"
        },
        "id": "oCC8Go3wysSi",
        "outputId": "cd641bde-d513-4d97-f51d-0a835e7411a9"
      },
      "source": [
        "##count tokens\n",
        "doc3"
      ],
      "execution_count": null,
      "outputs": [
        {
          "output_type": "execute_result",
          "data": {
            "text/plain": [
              "Let's visit St.Louis in the U.S. next Year "
            ]
          },
          "metadata": {
            "tags": []
          },
          "execution_count": 14
        }
      ]
    },
    {
      "cell_type": "code",
      "metadata": {
        "colab": {
          "base_uri": "https://localhost:8080/"
        },
        "id": "mYD-9d-Uyzsp",
        "outputId": "2a620e1b-35b2-4567-cc06-e784734c0ab9"
      },
      "source": [
        "len(doc3)"
      ],
      "execution_count": null,
      "outputs": [
        {
          "output_type": "execute_result",
          "data": {
            "text/plain": [
              "11"
            ]
          },
          "metadata": {
            "tags": []
          },
          "execution_count": 15
        }
      ]
    },
    {
      "cell_type": "code",
      "metadata": {
        "colab": {
          "base_uri": "https://localhost:8080/"
        },
        "id": "MeoAmLjpy1dU",
        "outputId": "cb40fc97-7373-402c-e8cd-f261be6cb616"
      },
      "source": [
        "#3tokens can be retrive by its positions\n",
        "doc3[3]"
      ],
      "execution_count": null,
      "outputs": [
        {
          "output_type": "execute_result",
          "data": {
            "text/plain": [
              "St"
            ]
          },
          "metadata": {
            "tags": []
          },
          "execution_count": 16
        }
      ]
    },
    {
      "cell_type": "code",
      "metadata": {
        "colab": {
          "base_uri": "https://localhost:8080/"
        },
        "id": "d6Ysap0by-wB",
        "outputId": "527c1ea2-0ba8-42dd-f0d2-b05aaa34da4d"
      },
      "source": [
        "##print index and token\n",
        "for i in range(len(doc3)):\n",
        "  print('index=',i, 'Tokens=', doc3[i])"
      ],
      "execution_count": null,
      "outputs": [
        {
          "output_type": "stream",
          "text": [
            "index= 0 Tokens= Let\n",
            "index= 1 Tokens= 's\n",
            "index= 2 Tokens= visit\n",
            "index= 3 Tokens= St\n",
            "index= 4 Tokens= .\n",
            "index= 5 Tokens= Louis\n",
            "index= 6 Tokens= in\n",
            "index= 7 Tokens= the\n",
            "index= 8 Tokens= U.S.\n",
            "index= 9 Tokens= next\n",
            "index= 10 Tokens= Year\n"
          ],
          "name": "stdout"
        }
      ]
    },
    {
      "cell_type": "code",
      "metadata": {
        "colab": {
          "base_uri": "https://localhost:8080/"
        },
        "id": "qZ4wmg_hzVXf",
        "outputId": "cd5ae6e8-20b2-4679-c40e-ae2e1a52f693"
      },
      "source": [
        "##slicing on tokens\n",
        "doc3[2:7]"
      ],
      "execution_count": null,
      "outputs": [
        {
          "output_type": "execute_result",
          "data": {
            "text/plain": [
              "visit St.Louis in"
            ]
          },
          "metadata": {
            "tags": []
          },
          "execution_count": 18
        }
      ]
    },
    {
      "cell_type": "code",
      "metadata": {
        "id": "V9Jbk8y3zc2l"
      },
      "source": [
        "doc5=nlp('run runner running ran runs easily fairly')"
      ],
      "execution_count": null,
      "outputs": []
    },
    {
      "cell_type": "code",
      "metadata": {
        "colab": {
          "base_uri": "https://localhost:8080/"
        },
        "id": "DRB9HqL27IMS",
        "outputId": "a99523a1-152b-49d0-d0b7-0650401961fa"
      },
      "source": [
        "doc5"
      ],
      "execution_count": null,
      "outputs": [
        {
          "output_type": "execute_result",
          "data": {
            "text/plain": [
              "run runner running ran runs easily fairly"
            ]
          },
          "metadata": {
            "tags": []
          },
          "execution_count": 20
        }
      ]
    },
    {
      "cell_type": "markdown",
      "metadata": {
        "id": "Dyq-MnmWznPJ"
      },
      "source": [
        "# **PART OF SPEECH**"
      ]
    },
    {
      "cell_type": "code",
      "metadata": {
        "colab": {
          "base_uri": "https://localhost:8080/"
        },
        "id": "IIJ0cEfZzqvQ",
        "outputId": "141ee3c8-7bbd-477f-fb8e-53bddeb50a64"
      },
      "source": [
        "##token.pos_: means POS tag(pos=part of speech)\n",
        "##token.tag_: means fine-grained POS tag\n",
        "#spacy.explain(tag): what details of given tag\n",
        "\n",
        "print(doc3.text)\n"
      ],
      "execution_count": null,
      "outputs": [
        {
          "output_type": "stream",
          "text": [
            "Let's visit St.Louis in the U.S. next Year \n"
          ],
          "name": "stdout"
        }
      ]
    },
    {
      "cell_type": "code",
      "metadata": {
        "colab": {
          "base_uri": "https://localhost:8080/"
        },
        "id": "E9Z0vfXT0HMM",
        "outputId": "e5ad4cfb-a779-47bc-8187-c3bc8f50245a"
      },
      "source": [
        "for i in range(len(doc3)):\n",
        "  print(doc3[i].text, '---', doc3[i].pos_, '----', doc3[i].tag_, '---', spacy.explain(doc3[i].tag_))"
      ],
      "execution_count": null,
      "outputs": [
        {
          "output_type": "stream",
          "text": [
            "Let --- VERB ---- VB --- verb, base form\n",
            "'s --- PRON ---- PRP --- pronoun, personal\n",
            "visit --- VERB ---- VB --- verb, base form\n",
            "St --- PROPN ---- NNP --- noun, proper singular\n",
            ". --- PUNCT ---- . --- punctuation mark, sentence closer\n",
            "Louis --- PROPN ---- NNP --- noun, proper singular\n",
            "in --- ADP ---- IN --- conjunction, subordinating or preposition\n",
            "the --- DET ---- DT --- determiner\n",
            "U.S. --- PROPN ---- NNP --- noun, proper singular\n",
            "next --- ADJ ---- JJ --- adjective\n",
            "Year --- NOUN ---- NN --- noun, singular or mass\n"
          ],
          "name": "stdout"
        }
      ]
    },
    {
      "cell_type": "code",
      "metadata": {
        "colab": {
          "base_uri": "https://localhost:8080/"
        },
        "id": "fHKC--QB03ej",
        "outputId": "2b731f49-6021-4504-9f4c-6cf1cba45e77"
      },
      "source": [
        "for token in doc3:##f string used to format string and aligning things vertically,better than whats shown above\n",
        "  print(f'{token.text :{10}}  {token.pos_ :{8}} {token.tag_ :{5}} {spacy.explain(token.tag_)}')"
      ],
      "execution_count": null,
      "outputs": [
        {
          "output_type": "stream",
          "text": [
            "Let         VERB     VB    verb, base form\n",
            "'s          PRON     PRP   pronoun, personal\n",
            "visit       VERB     VB    verb, base form\n",
            "St          PROPN    NNP   noun, proper singular\n",
            ".           PUNCT    .     punctuation mark, sentence closer\n",
            "Louis       PROPN    NNP   noun, proper singular\n",
            "in          ADP      IN    conjunction, subordinating or preposition\n",
            "the         DET      DT    determiner\n",
            "U.S.        PROPN    NNP   noun, proper singular\n",
            "next        ADJ      JJ    adjective\n",
            "Year        NOUN     NN    noun, singular or mass\n"
          ],
          "name": "stdout"
        }
      ]
    },
    {
      "cell_type": "code",
      "metadata": {
        "colab": {
          "base_uri": "https://localhost:8080/"
        },
        "id": "Gks75tOy1-_s",
        "outputId": "3a667e3b-5df8-4fb0-982a-b67ead606e35"
      },
      "source": [
        "for token in doc4:\n",
        "  print(f'{token.text :{10}}  {token.pos_ :{8}} {token.tag_ :{5}} {spacy.explain(token.tag_)}')"
      ],
      "execution_count": null,
      "outputs": [
        {
          "output_type": "stream",
          "text": [
            "Born        VERB     VBN   verb, past participle\n",
            "and         CCONJ    CC    conjunction, coordinating\n",
            "raised      VERB     VBD   verb, past tense\n",
            "in          ADP      IN    conjunction, subordinating or preposition\n",
            "a           DET      DT    determiner\n",
            "Hindu       PROPN    NNP   noun, proper singular\n",
            "family      NOUN     NN    noun, singular or mass\n",
            "in          ADP      IN    conjunction, subordinating or preposition\n",
            "coastal     ADJ      JJ    adjective\n",
            "Gujarat     PROPN    NNP   noun, proper singular\n",
            ",           PUNCT    ,     punctuation mark, comma\n",
            "Gandhi      PROPN    NNP   noun, proper singular\n",
            "trained     VERB     VBD   verb, past tense\n",
            "in          ADP      IN    conjunction, subordinating or preposition\n",
            "law         NOUN     NN    noun, singular or mass\n",
            "at          ADP      IN    conjunction, subordinating or preposition\n",
            "the         DET      DT    determiner\n",
            "Inner       PROPN    NNP   noun, proper singular\n",
            "Temple      PROPN    NNP   noun, proper singular\n",
            ",           PUNCT    ,     punctuation mark, comma\n"
          ],
          "name": "stdout"
        }
      ]
    },
    {
      "cell_type": "code",
      "metadata": {
        "id": "38rQmg0L2PmA"
      },
      "source": [
        "##porter stemmer\n",
        "import nltk###nltk is advance version of nlp and it doesnt create doc"
      ],
      "execution_count": null,
      "outputs": []
    },
    {
      "cell_type": "code",
      "metadata": {
        "id": "jg4St_rw4Jqd"
      },
      "source": [
        "from nltk.stem.porter import *"
      ],
      "execution_count": null,
      "outputs": []
    },
    {
      "cell_type": "code",
      "metadata": {
        "id": "lt1dVSS_4akG"
      },
      "source": [
        "p_stemmer= PorterStemmer()"
      ],
      "execution_count": null,
      "outputs": []
    },
    {
      "cell_type": "code",
      "metadata": {
        "id": "ZhYPX4gi4fJP"
      },
      "source": [
        "##creating list\n",
        "words=['run','runner','running','ran','runs','easily','fairly']\n"
      ],
      "execution_count": null,
      "outputs": []
    },
    {
      "cell_type": "code",
      "metadata": {
        "colab": {
          "base_uri": "https://localhost:8080/"
        },
        "id": "znNBUKOi4t5K",
        "outputId": "b08442ec-4832-42ed-da37-7c7cb28616a2"
      },
      "source": [
        "for w in words:\n",
        "  print(w, '-----', p_stemmer.stem(w))"
      ],
      "execution_count": null,
      "outputs": [
        {
          "output_type": "stream",
          "text": [
            "run ----- run\n",
            "runner ----- runner\n",
            "running ----- run\n",
            "ran ----- ran\n",
            "runs ----- run\n",
            "easily ----- easili\n",
            "fairly ----- fairli\n"
          ],
          "name": "stdout"
        }
      ]
    },
    {
      "cell_type": "code",
      "metadata": {
        "id": "2uOvmuRP45Q9"
      },
      "source": [
        "words1=['beautifully']"
      ],
      "execution_count": null,
      "outputs": []
    },
    {
      "cell_type": "code",
      "metadata": {
        "colab": {
          "base_uri": "https://localhost:8080/"
        },
        "id": "0Nm7TLGE5wxv",
        "outputId": "699146af-116c-4a1a-895b-4617d11cc2e0"
      },
      "source": [
        "for w in words1:\n",
        "  print(w, '-----', p_stemmer.stem(w))"
      ],
      "execution_count": null,
      "outputs": [
        {
          "output_type": "stream",
          "text": [
            "beautifully ----- beauti\n"
          ],
          "name": "stdout"
        }
      ]
    },
    {
      "cell_type": "code",
      "metadata": {
        "id": "EduPDIepuh4a"
      },
      "source": [
        "# snowball stemmer\n",
        "from nltk.stem.snowball import SnowballStemmer"
      ],
      "execution_count": null,
      "outputs": []
    },
    {
      "cell_type": "code",
      "metadata": {
        "id": "Z2lTTpfauibP"
      },
      "source": [
        "s_stemmer = SnowballStemmer(language='english')\n"
      ],
      "execution_count": null,
      "outputs": []
    },
    {
      "cell_type": "code",
      "metadata": {
        "colab": {
          "base_uri": "https://localhost:8080/"
        },
        "id": "M2CjazoI5w0s",
        "outputId": "5b4a112b-db99-485e-c1e1-cf78fae8e031"
      },
      "source": [
        "for w in words1:\n",
        "  print(w, '-----', s_stemmer.stem(w))"
      ],
      "execution_count": null,
      "outputs": [
        {
          "output_type": "stream",
          "text": [
            "beautifully ----- beauti\n"
          ],
          "name": "stdout"
        }
      ]
    },
    {
      "cell_type": "code",
      "metadata": {
        "colab": {
          "base_uri": "https://localhost:8080/"
        },
        "id": "awOvPetC5czQ",
        "outputId": "8fec6275-7532-452c-e637-89d25b86774f"
      },
      "source": [
        "for w in words:\n",
        "  print(w, '-----', s_stemmer.stem(w))"
      ],
      "execution_count": null,
      "outputs": [
        {
          "output_type": "stream",
          "text": [
            "run ----- run\n",
            "runner ----- runner\n",
            "running ----- run\n",
            "ran ----- ran\n",
            "runs ----- run\n",
            "easily ----- easili\n",
            "fairly ----- fair\n"
          ],
          "name": "stdout"
        }
      ]
    },
    {
      "cell_type": "code",
      "metadata": {
        "id": "402ZBF2c5hom"
      },
      "source": [
        "# creating the list \n",
        "words2 = ['run','runner','running','ran','runs','easily','fairly', 'went']"
      ],
      "execution_count": null,
      "outputs": []
    },
    {
      "cell_type": "code",
      "metadata": {
        "colab": {
          "base_uri": "https://localhost:8080/"
        },
        "id": "zH3I_pROvE0K",
        "outputId": "59c9fd12-75bc-45bd-86e1-dd78b9f9413c"
      },
      "source": [
        "for w in words2:\n",
        "  print(w, '-----', s_stemmer.stem(w))"
      ],
      "execution_count": null,
      "outputs": [
        {
          "output_type": "stream",
          "text": [
            "run ----- run\n",
            "runner ----- runner\n",
            "running ----- run\n",
            "ran ----- ran\n",
            "runs ----- run\n",
            "easily ----- easili\n",
            "fairly ----- fair\n",
            "went ----- went\n"
          ],
          "name": "stdout"
        }
      ]
    },
    {
      "cell_type": "markdown",
      "metadata": {
        "id": "OxT60Kz96UgM"
      },
      "source": [
        "# **lemmatiztion**"
      ]
    },
    {
      "cell_type": "code",
      "metadata": {
        "colab": {
          "base_uri": "https://localhost:8080/"
        },
        "id": "Fj5LeWc16X-T",
        "outputId": "f43cc302-db53-4c3c-8419-fce0d03b1b53"
      },
      "source": [
        "##lemmization is better than stemmization\n",
        "\n",
        "doc3"
      ],
      "execution_count": null,
      "outputs": [
        {
          "output_type": "execute_result",
          "data": {
            "text/plain": [
              "Let's visit St.Louis in the U.S. next Year "
            ]
          },
          "metadata": {
            "tags": []
          },
          "execution_count": 47
        }
      ]
    },
    {
      "cell_type": "code",
      "metadata": {
        "colab": {
          "base_uri": "https://localhost:8080/"
        },
        "id": "0eLqbbCb6aCd",
        "outputId": "b7ebf2fb-ff19-443f-9ffc-4c484929d16f"
      },
      "source": [
        "for token in doc3:\n",
        "  print(token.text,'----', token.lemma_)"
      ],
      "execution_count": null,
      "outputs": [
        {
          "output_type": "stream",
          "text": [
            "Let ---- let\n",
            "'s ---- -PRON-\n",
            "visit ---- visit\n",
            "St ---- St\n",
            ". ---- .\n",
            "Louis ---- Louis\n",
            "in ---- in\n",
            "the ---- the\n",
            "U.S. ---- U.S.\n",
            "next ---- next\n",
            "Year ---- year\n"
          ],
          "name": "stdout"
        }
      ]
    },
    {
      "cell_type": "code",
      "metadata": {
        "colab": {
          "base_uri": "https://localhost:8080/"
        },
        "id": "PA4ogYSW6ojy",
        "outputId": "202a38ee-69ee-48f1-9671-8ef0553a76d9"
      },
      "source": [
        "doc4"
      ],
      "execution_count": null,
      "outputs": [
        {
          "output_type": "execute_result",
          "data": {
            "text/plain": [
              "Born and raised in a Hindu family in coastal Gujarat, Gandhi trained in law at the Inner Temple,"
            ]
          },
          "metadata": {
            "tags": []
          },
          "execution_count": 51
        }
      ]
    },
    {
      "cell_type": "code",
      "metadata": {
        "colab": {
          "base_uri": "https://localhost:8080/"
        },
        "id": "r4colroZ7e14",
        "outputId": "c9ca5005-42f9-43c7-92d1-796642f39314"
      },
      "source": [
        "for token in doc4:\n",
        "  print(token.text,'----', token.lemma_)"
      ],
      "execution_count": null,
      "outputs": [
        {
          "output_type": "stream",
          "text": [
            "Born ---- bear\n",
            "and ---- and\n",
            "raised ---- raise\n",
            "in ---- in\n",
            "a ---- a\n",
            "Hindu ---- Hindu\n",
            "family ---- family\n",
            "in ---- in\n",
            "coastal ---- coastal\n",
            "Gujarat ---- Gujarat\n",
            ", ---- ,\n",
            "Gandhi ---- Gandhi\n",
            "trained ---- train\n",
            "in ---- in\n",
            "law ---- law\n",
            "at ---- at\n",
            "the ---- the\n",
            "Inner ---- Inner\n",
            "Temple ---- Temple\n",
            ", ---- ,\n"
          ],
          "name": "stdout"
        }
      ]
    },
    {
      "cell_type": "code",
      "metadata": {
        "id": "8vs8mo6r7tV-"
      },
      "source": [
        "doc5= nlp('run runner running ran runs easily fairly beautifully went news better  ')"
      ],
      "execution_count": null,
      "outputs": []
    },
    {
      "cell_type": "code",
      "metadata": {
        "colab": {
          "base_uri": "https://localhost:8080/"
        },
        "id": "y53YjTD1wDRM",
        "outputId": "0b9debe7-4088-44f4-dca9-ee09c16a9559"
      },
      "source": [
        "doc5"
      ],
      "execution_count": null,
      "outputs": [
        {
          "output_type": "execute_result",
          "data": {
            "text/plain": [
              "run runner running ran runs easily fairly beautifully went news better  "
            ]
          },
          "metadata": {
            "tags": []
          },
          "execution_count": 54
        }
      ]
    },
    {
      "cell_type": "code",
      "metadata": {
        "colab": {
          "base_uri": "https://localhost:8080/"
        },
        "id": "C5BZGbBqwDLf",
        "outputId": "691c25ec-eeac-47a8-ac5c-880e797779b3"
      },
      "source": [
        "for token in doc5:\n",
        "  print(token.text,'----', token.lemma_)\n",
        "  ##in o/p, few words are as it is like news, computer understands news as news, not as new"
      ],
      "execution_count": null,
      "outputs": [
        {
          "output_type": "stream",
          "text": [
            "run ---- run\n",
            "runner ---- runner\n",
            "running ---- run\n",
            "ran ---- run\n",
            "runs ---- run\n",
            "easily ---- easily\n",
            "fairly ---- fairly\n",
            "beautifully ---- beautifully\n",
            "went ---- go\n",
            "news ---- news\n",
            "better ---- better\n",
            "  ----  \n"
          ],
          "name": "stdout"
        }
      ]
    },
    {
      "cell_type": "markdown",
      "metadata": {
        "id": "S36Ee4t68c_4"
      },
      "source": [
        "Name Entity Recognization"
      ]
    },
    {
      "cell_type": "code",
      "metadata": {
        "id": "EB8c4RK08f_t"
      },
      "source": [
        "doc6=nlp('May I go to washington, D.C. next May to see Washington Monuments ?')"
      ],
      "execution_count": null,
      "outputs": []
    },
    {
      "cell_type": "code",
      "metadata": {
        "colab": {
          "base_uri": "https://localhost:8080/"
        },
        "id": "4Lv-fFDh8w4i",
        "outputId": "c364e68f-3928-492f-8788-79aaf52e13e1"
      },
      "source": [
        "doc6"
      ],
      "execution_count": null,
      "outputs": [
        {
          "output_type": "execute_result",
          "data": {
            "text/plain": [
              "May I go to washington, D.C. next May to see Washington Monuments ?"
            ]
          },
          "metadata": {
            "tags": []
          },
          "execution_count": 57
        }
      ]
    },
    {
      "cell_type": "code",
      "metadata": {
        "colab": {
          "base_uri": "https://localhost:8080/"
        },
        "id": "ISht_DSS8x8B",
        "outputId": "bcc71046-4a57-4db7-ecd9-321a5ad58add"
      },
      "source": [
        "for i in doc6.ents:\n",
        "  print(i.text,'---',i.label_,'---', spacy.explain(i.label_))"
      ],
      "execution_count": null,
      "outputs": [
        {
          "output_type": "stream",
          "text": [
            "washington --- GPE --- Countries, cities, states\n",
            "D.C. --- GPE --- Countries, cities, states\n",
            "next May --- DATE --- Absolute or relative dates or periods\n",
            "Washington --- GPE --- Countries, cities, states\n"
          ],
          "name": "stdout"
        }
      ]
    },
    {
      "cell_type": "code",
      "metadata": {
        "id": "sLcoIdpH9T0-"
      },
      "source": [
        "doc7=nlp('Can I please borrow 500 dollors from you to buy some microsoft stock ?')"
      ],
      "execution_count": null,
      "outputs": []
    },
    {
      "cell_type": "code",
      "metadata": {
        "colab": {
          "base_uri": "https://localhost:8080/"
        },
        "id": "1XI8PFhB-fLJ",
        "outputId": "bd9d95e8-61be-4731-e69b-9a0727ee1af9"
      },
      "source": [
        "doc7"
      ],
      "execution_count": null,
      "outputs": [
        {
          "output_type": "execute_result",
          "data": {
            "text/plain": [
              "Can I please borrow 500 dollors from you to buy some microsoft stock ?"
            ]
          },
          "metadata": {
            "tags": []
          },
          "execution_count": 60
        }
      ]
    },
    {
      "cell_type": "code",
      "metadata": {
        "colab": {
          "base_uri": "https://localhost:8080/"
        },
        "id": "Q8WnUxU2-gS9",
        "outputId": "d39cb143-a8a1-449b-c88a-a57285412a31"
      },
      "source": [
        "for i in doc7.ents:\n",
        "  print(i.text,'---',i.label_,'---', spacy.explain(i.label_))"
      ],
      "execution_count": null,
      "outputs": [
        {
          "output_type": "stream",
          "text": [
            "500 --- CARDINAL --- Numerals that do not fall under another type\n",
            "microsoft --- ORG --- Companies, agencies, institutions, etc.\n"
          ],
          "name": "stdout"
        }
      ]
    },
    {
      "cell_type": "code",
      "metadata": {
        "id": "hVppOSyr-jpn"
      },
      "source": [],
      "execution_count": null,
      "outputs": []
    }
  ]
}