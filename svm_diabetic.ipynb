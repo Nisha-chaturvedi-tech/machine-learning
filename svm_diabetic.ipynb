{
  "nbformat": 4,
  "nbformat_minor": 0,
  "metadata": {
    "colab": {
      "provenance": [],
      "authorship_tag": "ABX9TyOJEslXqn30ZmY+pdZwsWm8",
      "include_colab_link": true
    },
    "kernelspec": {
      "name": "python3",
      "display_name": "Python 3"
    },
    "language_info": {
      "name": "python"
    }
  },
  "cells": [
    {
      "cell_type": "markdown",
      "metadata": {
        "id": "view-in-github",
        "colab_type": "text"
      },
      "source": [
        "<a href=\"https://colab.research.google.com/github/Nisha-chaturvedi-tech/machine-learning/blob/main/svm_diabetic.ipynb\" target=\"_parent\"><img src=\"https://colab.research.google.com/assets/colab-badge.svg\" alt=\"Open In Colab\"/></a>"
      ]
    },
    {
      "cell_type": "code",
      "metadata": {
        "id": "CZMB67AAVngA"
      },
      "source": [
        "import pandas as pd\n",
        "import numpy as np\n",
        "import warnings\n",
        "warnings.filterwarnings('ignore')\n",
        "import matplotlib.pyplot as plt\n",
        "import seaborn as sns"
      ],
      "execution_count": null,
      "outputs": []
    },
    {
      "cell_type": "code",
      "metadata": {
        "colab": {
          "base_uri": "https://localhost:8080/"
        },
        "id": "nUK0Cl5rWKAp",
        "outputId": "bd69adda-9a2f-4968-df5d-eb04cba54ec1"
      },
      "source": [
        "## load train n test data from google drive\n",
        "\n",
        "from google.colab import drive\n",
        "drive.mount('/content/gdrive')"
      ],
      "execution_count": null,
      "outputs": [
        {
          "output_type": "stream",
          "text": [
            "Mounted at /content/gdrive\n"
          ],
          "name": "stdout"
        }
      ]
    },
    {
      "cell_type": "code",
      "metadata": {
        "id": "Z1XEmMMfWQI7"
      },
      "source": [
        "dia= pd.read_csv('gdrive/My Drive/colab/diabetes.csv')"
      ],
      "execution_count": null,
      "outputs": []
    },
    {
      "cell_type": "code",
      "metadata": {
        "colab": {
          "base_uri": "https://localhost:8080/",
          "height": 204
        },
        "id": "DobV0QbDWnyp",
        "outputId": "42cd1ee4-2b35-42f7-dfd0-741696df220f"
      },
      "source": [
        "dia.head()"
      ],
      "execution_count": null,
      "outputs": [
        {
          "output_type": "execute_result",
          "data": {
            "text/html": [
              "<div>\n",
              "<style scoped>\n",
              "    .dataframe tbody tr th:only-of-type {\n",
              "        vertical-align: middle;\n",
              "    }\n",
              "\n",
              "    .dataframe tbody tr th {\n",
              "        vertical-align: top;\n",
              "    }\n",
              "\n",
              "    .dataframe thead th {\n",
              "        text-align: right;\n",
              "    }\n",
              "</style>\n",
              "<table border=\"1\" class=\"dataframe\">\n",
              "  <thead>\n",
              "    <tr style=\"text-align: right;\">\n",
              "      <th></th>\n",
              "      <th>Glucose</th>\n",
              "      <th>BloodPressure</th>\n",
              "      <th>SkinThickness</th>\n",
              "      <th>Insulin</th>\n",
              "      <th>BMI</th>\n",
              "      <th>DiabetesPedigreeFunction</th>\n",
              "      <th>Age</th>\n",
              "      <th>Outcome</th>\n",
              "    </tr>\n",
              "  </thead>\n",
              "  <tbody>\n",
              "    <tr>\n",
              "      <th>0</th>\n",
              "      <td>148</td>\n",
              "      <td>72</td>\n",
              "      <td>35</td>\n",
              "      <td>0</td>\n",
              "      <td>33.6</td>\n",
              "      <td>0.627</td>\n",
              "      <td>50</td>\n",
              "      <td>1</td>\n",
              "    </tr>\n",
              "    <tr>\n",
              "      <th>1</th>\n",
              "      <td>85</td>\n",
              "      <td>66</td>\n",
              "      <td>29</td>\n",
              "      <td>0</td>\n",
              "      <td>26.6</td>\n",
              "      <td>0.351</td>\n",
              "      <td>31</td>\n",
              "      <td>0</td>\n",
              "    </tr>\n",
              "    <tr>\n",
              "      <th>2</th>\n",
              "      <td>183</td>\n",
              "      <td>64</td>\n",
              "      <td>0</td>\n",
              "      <td>0</td>\n",
              "      <td>23.3</td>\n",
              "      <td>0.672</td>\n",
              "      <td>32</td>\n",
              "      <td>1</td>\n",
              "    </tr>\n",
              "    <tr>\n",
              "      <th>3</th>\n",
              "      <td>89</td>\n",
              "      <td>66</td>\n",
              "      <td>23</td>\n",
              "      <td>94</td>\n",
              "      <td>28.1</td>\n",
              "      <td>0.167</td>\n",
              "      <td>21</td>\n",
              "      <td>0</td>\n",
              "    </tr>\n",
              "    <tr>\n",
              "      <th>4</th>\n",
              "      <td>137</td>\n",
              "      <td>40</td>\n",
              "      <td>35</td>\n",
              "      <td>168</td>\n",
              "      <td>43.1</td>\n",
              "      <td>2.288</td>\n",
              "      <td>33</td>\n",
              "      <td>1</td>\n",
              "    </tr>\n",
              "  </tbody>\n",
              "</table>\n",
              "</div>"
            ],
            "text/plain": [
              "   Glucose  BloodPressure  ...  Age  Outcome\n",
              "0      148             72  ...   50        1\n",
              "1       85             66  ...   31        0\n",
              "2      183             64  ...   32        1\n",
              "3       89             66  ...   21        0\n",
              "4      137             40  ...   33        1\n",
              "\n",
              "[5 rows x 8 columns]"
            ]
          },
          "metadata": {
            "tags": []
          },
          "execution_count": 4
        }
      ]
    },
    {
      "cell_type": "code",
      "metadata": {
        "colab": {
          "base_uri": "https://localhost:8080/"
        },
        "id": "bMVV9aS1WmpG",
        "outputId": "262d28ec-053f-44f9-963b-b505b355927e"
      },
      "source": [
        "dia.isnull().sum()"
      ],
      "execution_count": null,
      "outputs": [
        {
          "output_type": "execute_result",
          "data": {
            "text/plain": [
              "Glucose                     0\n",
              "BloodPressure               0\n",
              "SkinThickness               0\n",
              "Insulin                     0\n",
              "BMI                         0\n",
              "DiabetesPedigreeFunction    0\n",
              "Age                         0\n",
              "Outcome                     0\n",
              "dtype: int64"
            ]
          },
          "metadata": {
            "tags": []
          },
          "execution_count": 5
        }
      ]
    },
    {
      "cell_type": "code",
      "metadata": {
        "colab": {
          "base_uri": "https://localhost:8080/",
          "height": 204
        },
        "id": "1cNGiCT0Wz8w",
        "outputId": "aa790d28-708a-4213-dc40-279518dad70a"
      },
      "source": [
        "### split dataset\n",
        "\n",
        "x=dia.iloc[:,0:7]\n",
        "x.head()"
      ],
      "execution_count": null,
      "outputs": [
        {
          "output_type": "execute_result",
          "data": {
            "text/html": [
              "<div>\n",
              "<style scoped>\n",
              "    .dataframe tbody tr th:only-of-type {\n",
              "        vertical-align: middle;\n",
              "    }\n",
              "\n",
              "    .dataframe tbody tr th {\n",
              "        vertical-align: top;\n",
              "    }\n",
              "\n",
              "    .dataframe thead th {\n",
              "        text-align: right;\n",
              "    }\n",
              "</style>\n",
              "<table border=\"1\" class=\"dataframe\">\n",
              "  <thead>\n",
              "    <tr style=\"text-align: right;\">\n",
              "      <th></th>\n",
              "      <th>Glucose</th>\n",
              "      <th>BloodPressure</th>\n",
              "      <th>SkinThickness</th>\n",
              "      <th>Insulin</th>\n",
              "      <th>BMI</th>\n",
              "      <th>DiabetesPedigreeFunction</th>\n",
              "      <th>Age</th>\n",
              "    </tr>\n",
              "  </thead>\n",
              "  <tbody>\n",
              "    <tr>\n",
              "      <th>0</th>\n",
              "      <td>148</td>\n",
              "      <td>72</td>\n",
              "      <td>35</td>\n",
              "      <td>0</td>\n",
              "      <td>33.6</td>\n",
              "      <td>0.627</td>\n",
              "      <td>50</td>\n",
              "    </tr>\n",
              "    <tr>\n",
              "      <th>1</th>\n",
              "      <td>85</td>\n",
              "      <td>66</td>\n",
              "      <td>29</td>\n",
              "      <td>0</td>\n",
              "      <td>26.6</td>\n",
              "      <td>0.351</td>\n",
              "      <td>31</td>\n",
              "    </tr>\n",
              "    <tr>\n",
              "      <th>2</th>\n",
              "      <td>183</td>\n",
              "      <td>64</td>\n",
              "      <td>0</td>\n",
              "      <td>0</td>\n",
              "      <td>23.3</td>\n",
              "      <td>0.672</td>\n",
              "      <td>32</td>\n",
              "    </tr>\n",
              "    <tr>\n",
              "      <th>3</th>\n",
              "      <td>89</td>\n",
              "      <td>66</td>\n",
              "      <td>23</td>\n",
              "      <td>94</td>\n",
              "      <td>28.1</td>\n",
              "      <td>0.167</td>\n",
              "      <td>21</td>\n",
              "    </tr>\n",
              "    <tr>\n",
              "      <th>4</th>\n",
              "      <td>137</td>\n",
              "      <td>40</td>\n",
              "      <td>35</td>\n",
              "      <td>168</td>\n",
              "      <td>43.1</td>\n",
              "      <td>2.288</td>\n",
              "      <td>33</td>\n",
              "    </tr>\n",
              "  </tbody>\n",
              "</table>\n",
              "</div>"
            ],
            "text/plain": [
              "   Glucose  BloodPressure  SkinThickness  ...   BMI  DiabetesPedigreeFunction  Age\n",
              "0      148             72             35  ...  33.6                     0.627   50\n",
              "1       85             66             29  ...  26.6                     0.351   31\n",
              "2      183             64              0  ...  23.3                     0.672   32\n",
              "3       89             66             23  ...  28.1                     0.167   21\n",
              "4      137             40             35  ...  43.1                     2.288   33\n",
              "\n",
              "[5 rows x 7 columns]"
            ]
          },
          "metadata": {
            "tags": []
          },
          "execution_count": 6
        }
      ]
    },
    {
      "cell_type": "code",
      "metadata": {
        "colab": {
          "base_uri": "https://localhost:8080/",
          "height": 204
        },
        "id": "L0lppvCoXD8x",
        "outputId": "c38c8735-6af4-427c-f4cf-db272fd86fab"
      },
      "source": [
        "# outcome\n",
        "y=dia.iloc[:,7:]\n",
        "y.head()"
      ],
      "execution_count": null,
      "outputs": [
        {
          "output_type": "execute_result",
          "data": {
            "text/html": [
              "<div>\n",
              "<style scoped>\n",
              "    .dataframe tbody tr th:only-of-type {\n",
              "        vertical-align: middle;\n",
              "    }\n",
              "\n",
              "    .dataframe tbody tr th {\n",
              "        vertical-align: top;\n",
              "    }\n",
              "\n",
              "    .dataframe thead th {\n",
              "        text-align: right;\n",
              "    }\n",
              "</style>\n",
              "<table border=\"1\" class=\"dataframe\">\n",
              "  <thead>\n",
              "    <tr style=\"text-align: right;\">\n",
              "      <th></th>\n",
              "      <th>Outcome</th>\n",
              "    </tr>\n",
              "  </thead>\n",
              "  <tbody>\n",
              "    <tr>\n",
              "      <th>0</th>\n",
              "      <td>1</td>\n",
              "    </tr>\n",
              "    <tr>\n",
              "      <th>1</th>\n",
              "      <td>0</td>\n",
              "    </tr>\n",
              "    <tr>\n",
              "      <th>2</th>\n",
              "      <td>1</td>\n",
              "    </tr>\n",
              "    <tr>\n",
              "      <th>3</th>\n",
              "      <td>0</td>\n",
              "    </tr>\n",
              "    <tr>\n",
              "      <th>4</th>\n",
              "      <td>1</td>\n",
              "    </tr>\n",
              "  </tbody>\n",
              "</table>\n",
              "</div>"
            ],
            "text/plain": [
              "   Outcome\n",
              "0        1\n",
              "1        0\n",
              "2        1\n",
              "3        0\n",
              "4        1"
            ]
          },
          "metadata": {
            "tags": []
          },
          "execution_count": 7
        }
      ]
    },
    {
      "cell_type": "code",
      "metadata": {
        "id": "XZoiEaf-XH_I"
      },
      "source": [
        "from sklearn.model_selection import train_test_split\n",
        "x_train ,x_test , y_train , y_test=train_test_split(x , y , test_size=0.4,random_state=7 )\n"
      ],
      "execution_count": null,
      "outputs": []
    },
    {
      "cell_type": "code",
      "metadata": {
        "id": "FGWb1x4oXNAA"
      },
      "source": [
        "#create model\n",
        "from sklearn.model_selection import train_test_split\n",
        "x_train ,x_test , y_train , y_test=train_test_split(x , y , test_size=0.4,random_state=10 )\n",
        "\n",
        "#load SVM model\n",
        "\n",
        "from sklearn.svm import SVC\n",
        "model = SVC(kernel='rbf')\n",
        "model.fit(x_train, y_train)\n",
        "pred= model.predict(x_test)"
      ],
      "execution_count": null,
      "outputs": []
    },
    {
      "cell_type": "code",
      "metadata": {
        "colab": {
          "base_uri": "https://localhost:8080/",
          "height": 204
        },
        "id": "5CN0yqAhXU0M",
        "outputId": "1e2266b9-4018-4630-c1d4-e325d34b0bd8"
      },
      "source": [
        "###side by sidecomparision\n",
        "result=x_test\n",
        "result['Actual'] = y_test\n",
        "result['Predicted']= pred\n",
        "result.head()"
      ],
      "execution_count": null,
      "outputs": [
        {
          "output_type": "execute_result",
          "data": {
            "text/html": [
              "<div>\n",
              "<style scoped>\n",
              "    .dataframe tbody tr th:only-of-type {\n",
              "        vertical-align: middle;\n",
              "    }\n",
              "\n",
              "    .dataframe tbody tr th {\n",
              "        vertical-align: top;\n",
              "    }\n",
              "\n",
              "    .dataframe thead th {\n",
              "        text-align: right;\n",
              "    }\n",
              "</style>\n",
              "<table border=\"1\" class=\"dataframe\">\n",
              "  <thead>\n",
              "    <tr style=\"text-align: right;\">\n",
              "      <th></th>\n",
              "      <th>Glucose</th>\n",
              "      <th>BloodPressure</th>\n",
              "      <th>SkinThickness</th>\n",
              "      <th>Insulin</th>\n",
              "      <th>BMI</th>\n",
              "      <th>DiabetesPedigreeFunction</th>\n",
              "      <th>Age</th>\n",
              "      <th>Actual</th>\n",
              "      <th>Predicted</th>\n",
              "    </tr>\n",
              "  </thead>\n",
              "  <tbody>\n",
              "    <tr>\n",
              "      <th>568</th>\n",
              "      <td>154</td>\n",
              "      <td>72</td>\n",
              "      <td>29</td>\n",
              "      <td>126</td>\n",
              "      <td>31.3</td>\n",
              "      <td>0.338</td>\n",
              "      <td>37</td>\n",
              "      <td>0</td>\n",
              "      <td>1</td>\n",
              "    </tr>\n",
              "    <tr>\n",
              "      <th>620</th>\n",
              "      <td>112</td>\n",
              "      <td>86</td>\n",
              "      <td>42</td>\n",
              "      <td>160</td>\n",
              "      <td>38.4</td>\n",
              "      <td>0.246</td>\n",
              "      <td>28</td>\n",
              "      <td>0</td>\n",
              "      <td>0</td>\n",
              "    </tr>\n",
              "    <tr>\n",
              "      <th>456</th>\n",
              "      <td>135</td>\n",
              "      <td>54</td>\n",
              "      <td>0</td>\n",
              "      <td>0</td>\n",
              "      <td>26.7</td>\n",
              "      <td>0.687</td>\n",
              "      <td>62</td>\n",
              "      <td>0</td>\n",
              "      <td>0</td>\n",
              "    </tr>\n",
              "    <tr>\n",
              "      <th>197</th>\n",
              "      <td>107</td>\n",
              "      <td>62</td>\n",
              "      <td>13</td>\n",
              "      <td>48</td>\n",
              "      <td>22.9</td>\n",
              "      <td>0.678</td>\n",
              "      <td>23</td>\n",
              "      <td>1</td>\n",
              "      <td>0</td>\n",
              "    </tr>\n",
              "    <tr>\n",
              "      <th>714</th>\n",
              "      <td>102</td>\n",
              "      <td>74</td>\n",
              "      <td>0</td>\n",
              "      <td>0</td>\n",
              "      <td>29.5</td>\n",
              "      <td>0.121</td>\n",
              "      <td>32</td>\n",
              "      <td>0</td>\n",
              "      <td>0</td>\n",
              "    </tr>\n",
              "  </tbody>\n",
              "</table>\n",
              "</div>"
            ],
            "text/plain": [
              "     Glucose  BloodPressure  SkinThickness  ...  Age  Actual  Predicted\n",
              "568      154             72             29  ...   37       0          1\n",
              "620      112             86             42  ...   28       0          0\n",
              "456      135             54              0  ...   62       0          0\n",
              "197      107             62             13  ...   23       1          0\n",
              "714      102             74              0  ...   32       0          0\n",
              "\n",
              "[5 rows x 9 columns]"
            ]
          },
          "metadata": {
            "tags": []
          },
          "execution_count": 10
        }
      ]
    },
    {
      "cell_type": "code",
      "metadata": {
        "colab": {
          "base_uri": "https://localhost:8080/"
        },
        "id": "jShd8IPmXdgz",
        "outputId": "98150c90-bda6-4477-bd77-749dfb5a8aa2"
      },
      "source": [
        "from sklearn.metrics import confusion_matrix, accuracy_score\n",
        "confusion_matrix(y_test , pred)\n",
        "\n"
      ],
      "execution_count": null,
      "outputs": [
        {
          "output_type": "execute_result",
          "data": {
            "text/plain": [
              "array([[178,  23],\n",
              "       [ 62,  45]])"
            ]
          },
          "metadata": {
            "tags": []
          },
          "execution_count": 18
        }
      ]
    },
    {
      "cell_type": "code",
      "metadata": {
        "colab": {
          "base_uri": "https://localhost:8080/"
        },
        "id": "a9WpTl0lXivV",
        "outputId": "d1a9637e-e286-4c54-9a11-4e6068b05986"
      },
      "source": [
        "print('accuracy')\n",
        "accuracy_score(y_test , pred)"
      ],
      "execution_count": null,
      "outputs": [
        {
          "output_type": "stream",
          "text": [
            "accuracy\n"
          ],
          "name": "stdout"
        },
        {
          "output_type": "execute_result",
          "data": {
            "text/plain": [
              "0.724025974025974"
            ]
          },
          "metadata": {
            "tags": []
          },
          "execution_count": 19
        }
      ]
    },
    {
      "cell_type": "code",
      "metadata": {
        "colab": {
          "base_uri": "https://localhost:8080/"
        },
        "id": "IqNNEx_rX_qG",
        "outputId": "5d0b6e8c-c5f3-4184-e487-d52b81b2f1fd"
      },
      "source": [
        "## we have already applied kernel as rbf ,it was showing poor accuracy so we changed kernel to linear.thats why below models has linear kernel\n",
        "\n",
        "#load SVM model and parameter tuning: C=1,10,100)\n",
        "\n",
        "from sklearn.svm import SVC\n",
        "\n",
        "list_C = [1,10,100]\n",
        "accu=[]\n",
        "for i in list_C:\n",
        "  x_train , x_test, y_train, y_test = train_test_split(x,y,test_size=0.4,random_state=10)\n",
        "  model = SVC(kernel='linear', C=i )\n",
        "  model.fit(x_train, y_train)\n",
        "  pred= model.predict(x_test) \n",
        "  temp = accuracy_score(y_test , pred) \n",
        "  print('C value ' , i , ' Accuracy Score' , temp)\n",
        "  accu.append(temp)\n"
      ],
      "execution_count": null,
      "outputs": [
        {
          "output_type": "stream",
          "text": [
            "C value  1  Accuracy Score 0.762987012987013\n",
            "C value  10  Accuracy Score 0.762987012987013\n",
            "C value  100  Accuracy Score 0.7564935064935064\n"
          ],
          "name": "stdout"
        }
      ]
    },
    {
      "cell_type": "code",
      "metadata": {
        "colab": {
          "base_uri": "https://localhost:8080/"
        },
        "id": "fDH8_I_EYLbD",
        "outputId": "469672f0-be7f-41ba-db26-21463ebb617c"
      },
      "source": [
        "#load SVM model and parameter tuning: Gamma=1,10,100)\n",
        "\n",
        "from sklearn.svm import SVC\n",
        "\n",
        "list_Gamma = [1,10,100]\n",
        "accu=[]\n",
        "for i in list_Gamma:\n",
        "  x_train, x_test, y_train, y_test = train_test_split(x,y,test_size=0.4,random_state=10)\n",
        "  model = SVC(kernel='linear', gamma=i )\n",
        "  model.fit(x_train, y_train)\n",
        "  pred= model.predict(x_test) \n",
        "  temp = accuracy_score(y_test , pred) \n",
        "  print('Gamma value ' , i , ' Accuracy Score' , temp)\n",
        "  accu.append(temp)"
      ],
      "execution_count": null,
      "outputs": [
        {
          "output_type": "stream",
          "text": [
            "Gamma value  1  Accuracy Score 0.762987012987013\n",
            "Gamma value  10  Accuracy Score 0.762987012987013\n",
            "Gamma value  100  Accuracy Score 0.762987012987013\n"
          ],
          "name": "stdout"
        }
      ]
    },
    {
      "cell_type": "code",
      "metadata": {
        "colab": {
          "base_uri": "https://localhost:8080/"
        },
        "id": "29xL4TVuYR3q",
        "outputId": "5ae5e5a9-8b9e-4610-ba85-b717010a2bc4"
      },
      "source": [
        "#load SVM model and parameter tuning: kernel=liner,rbf\n",
        "\n",
        "from sklearn.svm import SVC\n",
        "\n",
        "list_kernel = ['linear','rbf']\n",
        "accu=[]\n",
        "for i in list_kernel:\n",
        "  model = SVC(kernel= i )\n",
        "  model.fit(x_train, y_train)\n",
        "  pred= model.predict(x_test) \n",
        "  temp = accuracy_score(y_test , pred) \n",
        "  print('kernel ' , i , ' Accuracy Score' , temp)\n",
        "  accu.append(temp)"
      ],
      "execution_count": null,
      "outputs": [
        {
          "output_type": "stream",
          "text": [
            "kernel  linear  Accuracy Score 0.762987012987013\n",
            "kernel  rbf  Accuracy Score 0.724025974025974\n"
          ],
          "name": "stdout"
        }
      ]
    },
    {
      "cell_type": "code",
      "metadata": {
        "colab": {
          "base_uri": "https://localhost:8080/"
        },
        "id": "msTro9CkZ5XI",
        "outputId": "73ad22c2-dd15-4a50-e190-757aa24e1238"
      },
      "source": [
        "#### best model: kernel=linear, gamma= 1 or 10, c value=1 or 10\n",
        "\n",
        "from sklearn.svm import SVC\n",
        "model = SVC(kernel= 'linear', gamma=10, C=10 )\n",
        "model.fit(x_train, y_train)\n",
        "pred= model.predict(x_test) \n",
        "temp = accuracy_score(y_test , pred) \n",
        "print( 'best model is witk kernel-linear,g=10,c=10\\n', 'Accuracy Score' , temp)\n",
        "  "
      ],
      "execution_count": null,
      "outputs": [
        {
          "output_type": "stream",
          "text": [
            "best model is witk kernel-linear,g=10,c=10\n",
            " Accuracy Score 0.762987012987013\n"
          ],
          "name": "stdout"
        }
      ]
    },
    {
      "cell_type": "code",
      "metadata": {
        "colab": {
          "base_uri": "https://localhost:8080/"
        },
        "id": "RLC4RNccaMVZ",
        "outputId": "0a394375-3b24-4abf-d91a-be2d3ec20ee8"
      },
      "source": [
        "doctor=model.predict([[128,78,0,0,21.1,0.268,55]])\n",
        "if doctor==0:\n",
        "    print('Congratulation ! you are not diabetic')\n",
        "else:\n",
        "        print('you are diabetic')"
      ],
      "execution_count": null,
      "outputs": [
        {
          "output_type": "stream",
          "text": [
            "Congratulation ! you are not diabetic\n"
          ],
          "name": "stdout"
        }
      ]
    },
    {
      "cell_type": "code",
      "metadata": {
        "colab": {
          "base_uri": "https://localhost:8080/"
        },
        "id": "0-C2GMO7addK",
        "outputId": "ed6c7576-d5eb-44c8-8997-f0c78861c0ce"
      },
      "source": [
        "doctor=model.predict([[152,78,0,0,21.1,0.268,55]])\n",
        "if doctor==0:\n",
        "    print('Congratulation ! you are not diabetic')\n",
        "else:\n",
        "        print('you are diabetic')"
      ],
      "execution_count": null,
      "outputs": [
        {
          "output_type": "stream",
          "text": [
            "Congratulation ! you are not diabetic\n"
          ],
          "name": "stdout"
        }
      ]
    },
    {
      "cell_type": "code",
      "metadata": {
        "colab": {
          "base_uri": "https://localhost:8080/"
        },
        "id": "EMaZiB1YagyF",
        "outputId": "cfcc6c09-3412-47a5-c56b-0942ac089b1c"
      },
      "source": [
        "doctor=model.predict([[153,78,0,0,21.1,0.268,55]])\n",
        "if doctor==0:\n",
        "    print('Congratulation ! you are not diabetic')\n",
        "else:\n",
        "        print('you are diabetic')"
      ],
      "execution_count": null,
      "outputs": [
        {
          "output_type": "stream",
          "text": [
            "you are diabetic\n"
          ],
          "name": "stdout"
        }
      ]
    },
    {
      "cell_type": "code",
      "metadata": {
        "id": "9AOelfaKa0Mg"
      },
      "source": [
        "#Conclusion:\n",
        "\n",
        "##threholdvalue_glucose= 153:makes person diabetic\n",
        "\n",
        "##after doing analysis on diabetes data on logistic reg,KNN,SVM: best accuracy found on LOGISTIC REG MODEL"
      ],
      "execution_count": null,
      "outputs": []
    }
  ]
}